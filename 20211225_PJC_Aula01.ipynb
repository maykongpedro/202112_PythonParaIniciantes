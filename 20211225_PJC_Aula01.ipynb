{
 "cells": [
  {
   "cell_type": "markdown",
   "metadata": {},
   "source": [
    "## Início\n",
    "Realizar uma pequena estrutura de código que responda se uma pessoa é obrigada a votar ou não."
   ]
  },
  {
   "cell_type": "code",
   "execution_count": 12,
   "metadata": {},
   "outputs": [
    {
     "name": "stdout",
     "output_type": "stream",
     "text": [
      "é obrigado a votar\n"
     ]
    }
   ],
   "source": [
    "\n",
    "# Vocé é obrigado a votar?\n",
    "idade = 25 # define idade\n",
    "\n",
    "# realizada o check\n",
    "if idade >= 18 and idade <70:\n",
    "    print(\"é obrigado a votar\")\n",
    "\n"
   ]
  },
  {
   "cell_type": "markdown",
   "metadata": {},
   "source": [
    "## Variáveis e tipos de dados"
   ]
  },
  {
   "cell_type": "code",
   "execution_count": 13,
   "metadata": {},
   "outputs": [],
   "source": [
    "# int integer - inteiro\n",
    "dia = 19\n",
    "\n",
    "# float floating point - ponto flutuante\n",
    "valor = 42.98765442\n",
    "\n",
    "# str string - texto (string of characters - cadeira de caracteres)\n",
    "fruta = 'abacaxi'\n",
    "mensagem = \"sou uma string legal\"\n",
    "\n",
    "# bool boolean - booleano\n",
    "situacao_regular = True\n"
   ]
  },
  {
   "cell_type": "markdown",
   "metadata": {},
   "source": [
    "## Saída de dados print"
   ]
  },
  {
   "cell_type": "code",
   "execution_count": 14,
   "metadata": {},
   "outputs": [
    {
     "name": "stdout",
     "output_type": "stream",
     "text": [
      "19\n",
      "42.98765442\n",
      "abacaxi\n",
      "sou uma string legal\n",
      "True\n"
     ]
    }
   ],
   "source": [
    "print(dia)\n",
    "print(valor)\n",
    "print(fruta)\n",
    "print(mensagem)\n",
    "print(situacao_regular)"
   ]
  },
  {
   "cell_type": "markdown",
   "metadata": {},
   "source": [
    "## Controle de fluxo (if, else, elif)"
   ]
  },
  {
   "cell_type": "code",
   "execution_count": 18,
   "metadata": {},
   "outputs": [
    {
     "name": "stdout",
     "output_type": "stream",
     "text": [
      "A condição é verdadeira\n",
      "10\n"
     ]
    }
   ],
   "source": [
    "situacao_regular = True\n",
    "\n",
    "if situacao_regular:\n",
    "    print(\"A condição é verdadeira\")\n",
    "    print(8 + 2)\n",
    "else:\n",
    "    print(\"A condição é falsa\")\n",
    "\n",
    "\n",
    "# Não pertence ao if por conta de indentação\n",
    "print(\"Fora do if\")"
   ]
  }
 ],
 "metadata": {
  "interpreter": {
   "hash": "652c7d745710ed59216a93d6e0de221eea5ffe3027a8bf3b9aa8533433fad934"
  },
  "kernelspec": {
   "display_name": "Python 3.9.7 64-bit",
   "language": "python",
   "name": "python3"
  },
  "language_info": {
   "codemirror_mode": {
    "name": "ipython",
    "version": 3
   },
   "file_extension": ".py",
   "mimetype": "text/x-python",
   "name": "python",
   "nbconvert_exporter": "python",
   "pygments_lexer": "ipython3",
   "version": "3.9.7"
  },
  "orig_nbformat": 4
 },
 "nbformat": 4,
 "nbformat_minor": 2
}
