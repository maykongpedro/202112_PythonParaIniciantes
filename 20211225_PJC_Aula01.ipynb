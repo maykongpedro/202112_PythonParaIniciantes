{
 "cells": [
  {
   "cell_type": "markdown",
   "metadata": {},
   "source": [
    "## Início\n",
    "Realizar uma pequena estrutura de código que responda se uma pessoa é obrigada a votar ou não."
   ]
  },
  {
   "cell_type": "code",
   "execution_count": 12,
   "metadata": {},
   "outputs": [
    {
     "name": "stdout",
     "output_type": "stream",
     "text": [
      "é obrigado a votar\n"
     ]
    }
   ],
   "source": [
    "\n",
    "# Vocé é obrigado a votar?\n",
    "idade = 25 # define idade\n",
    "\n",
    "# realizada o check\n",
    "if idade >= 18 and idade <70:\n",
    "    print(\"é obrigado a votar\")\n",
    "\n"
   ]
  },
  {
   "cell_type": "markdown",
   "metadata": {},
   "source": [
    "## Variáveis e tipos de dados"
   ]
  },
  {
   "cell_type": "code",
   "execution_count": 13,
   "metadata": {},
   "outputs": [],
   "source": [
    "# int integer - inteiro\n",
    "dia = 19\n",
    "\n",
    "# float floating point - ponto flutuante\n",
    "valor = 42.98765442\n",
    "\n",
    "# str string - texto (string of characters - cadeira de caracteres)\n",
    "fruta = 'abacaxi'\n",
    "mensagem = \"sou uma string legal\"\n",
    "\n",
    "# bool boolean - booleano\n",
    "situacao_regular = True\n"
   ]
  },
  {
   "cell_type": "markdown",
   "metadata": {},
   "source": [
    "## Saída de dados print"
   ]
  },
  {
   "cell_type": "code",
   "execution_count": 14,
   "metadata": {},
   "outputs": [
    {
     "name": "stdout",
     "output_type": "stream",
     "text": [
      "19\n",
      "42.98765442\n",
      "abacaxi\n",
      "sou uma string legal\n",
      "True\n"
     ]
    }
   ],
   "source": [
    "print(dia)\n",
    "print(valor)\n",
    "print(fruta)\n",
    "print(mensagem)\n",
    "print(situacao_regular)"
   ]
  },
  {
   "cell_type": "markdown",
   "metadata": {},
   "source": [
    "## Controle de fluxo (if, else, elif)"
   ]
  },
  {
   "cell_type": "code",
   "execution_count": 18,
   "metadata": {},
   "outputs": [
    {
     "name": "stdout",
     "output_type": "stream",
     "text": [
      "A condição é verdadeira\n",
      "10\n"
     ]
    }
   ],
   "source": [
    "situacao_regular = True\n",
    "\n",
    "if situacao_regular:\n",
    "    print(\"A condição é verdadeira\")\n",
    "    print(8 + 2)\n",
    "else:\n",
    "    print(\"A condição é falsa\")\n",
    "\n",
    "\n",
    "# Não pertence ao if por conta de indentação\n",
    "print(\"Fora do if\")"
   ]
  },
  {
   "cell_type": "code",
   "execution_count": 1,
   "metadata": {},
   "outputs": [
    {
     "name": "stdout",
     "output_type": "stream",
     "text": [
      "Não é obrigado a votar\n"
     ]
    }
   ],
   "source": [
    "idade = 17\n",
    "if idade >= 18 and idade <70:\n",
    "    print(\"É obrigado a votar\")\n",
    "else:\n",
    "    print(\"Não é obrigado a votar\")"
   ]
  },
  {
   "cell_type": "code",
   "execution_count": 4,
   "metadata": {},
   "outputs": [
    {
     "name": "stdout",
     "output_type": "stream",
     "text": [
      "Voto é facultativo\n"
     ]
    }
   ],
   "source": [
    "idade = 75\n",
    "if idade >= 18 and idade <70:\n",
    "    print(\"É obrigado a votar\")\n",
    "elif idade >=16: #or idade >=70:\n",
    "    print(\"Voto é facultativo\")\n",
    "else:\n",
    "    print(\"Não pode votar\")"
   ]
  },
  {
   "cell_type": "markdown",
   "metadata": {},
   "source": [
    "## Operações com dados"
   ]
  },
  {
   "cell_type": "code",
   "execution_count": 5,
   "metadata": {},
   "outputs": [
    {
     "name": "stdout",
     "output_type": "stream",
     "text": [
      "11\n",
      "8.4\n",
      "8\n",
      "2\n",
      "abacaxiraposa\n"
     ]
    }
   ],
   "source": [
    "print(4+7)\n",
    "print(42/5)\n",
    "print(42//5) # divisão inteira\n",
    "print(42 % 5) # retorna o resto da divisão inteira\n",
    "\n",
    "print('abacaxi' + 'raposa')\n"
   ]
  },
  {
   "cell_type": "markdown",
   "metadata": {},
   "source": [
    "## Conversões de tipos de dados"
   ]
  },
  {
   "cell_type": "code",
   "execution_count": 8,
   "metadata": {},
   "outputs": [
    {
     "name": "stdout",
     "output_type": "stream",
     "text": [
      "11\n",
      "11.0\n",
      "4 biscoitos\n"
     ]
    }
   ],
   "source": [
    "numero = '4'\n",
    "print(int(numero) + 7)\n",
    "print(float(numero) + 7)\n",
    "print(str(numero) + ' ' + 'biscoitos')"
   ]
  },
  {
   "cell_type": "code",
   "execution_count": 9,
   "metadata": {},
   "outputs": [
    {
     "name": "stdout",
     "output_type": "stream",
     "text": [
      "<class 'int'>\n",
      "<class 'float'>\n",
      "<class 'str'>\n",
      "<class 'bool'>\n"
     ]
    }
   ],
   "source": [
    "# exibir o tipo de dado das variáveis\n",
    "print(type(7))\n",
    "print(type(82.3))\n",
    "print(type('python'))\n",
    "print(type(True))"
   ]
  },
  {
   "cell_type": "markdown",
   "metadata": {},
   "source": [
    "## Entrada de dados\n",
    "Um exemplo é a função 'input', tudo que entra por essa função é na forma de string."
   ]
  },
  {
   "cell_type": "code",
   "execution_count": 13,
   "metadata": {},
   "outputs": [
    {
     "name": "stdout",
     "output_type": "stream",
     "text": [
      "7\n"
     ]
    }
   ],
   "source": [
    "numero = input('Digite um número')\n",
    "numero = int(numero)\n",
    "print(numero + 4) "
   ]
  },
  {
   "cell_type": "code",
   "execution_count": 18,
   "metadata": {},
   "outputs": [
    {
     "name": "stdout",
     "output_type": "stream",
     "text": [
      "voto facultativo\n"
     ]
    }
   ],
   "source": [
    "idade = input(\"Digite sua idade: \")\n",
    "idade = int(idade)\n",
    "\n",
    "if idade >= 18 and idade <70:\n",
    "    print('é obrigado a votar')\n",
    "elif idade >= 16:\n",
    "    print('voto facultativo')\n",
    "else:\n",
    "    print('não pode votar')\n"
   ]
  },
  {
   "cell_type": "markdown",
   "metadata": {},
   "source": [
    "## Formatação de strings"
   ]
  },
  {
   "cell_type": "code",
   "execution_count": 23,
   "metadata": {},
   "outputs": [
    {
     "name": "stdout",
     "output_type": "stream",
     "text": [
      "Com 29 anos, você é obrigado a votar\n",
      "Com 29 anos, você é obrigado a votar\n",
      "Com 29 anos, você é obrigado a votar\n"
     ]
    }
   ],
   "source": [
    "idade = 29\n",
    "print('Com ' + str(idade) + ' anos, você é obrigado a votar')\n",
    "print('Com', idade, 'anos, você é obrigado a votar')\n",
    "print(f'Com {idade} anos, você é obrigado a votar')"
   ]
  },
  {
   "cell_type": "code",
   "execution_count": 27,
   "metadata": {},
   "outputs": [
    {
     "name": "stdout",
     "output_type": "stream",
     "text": [
      "Com 70 anos, seu voto é facultativo\n"
     ]
    }
   ],
   "source": [
    "idade = input(\"Digite sua idade: \")\n",
    "idade = int(idade)\n",
    "\n",
    "if idade >= 18 and idade <70:\n",
    "    print(f'Com {idade} anos, seu voto é obrigatório')\n",
    "elif idade >= 16:\n",
    "    print(f'Com {idade} anos, seu voto é facultativo')\n",
    "else:\n",
    "    print(f'Com {idade} anos, você NÃO pode votar')"
   ]
  }
 ],
 "metadata": {
  "interpreter": {
   "hash": "652c7d745710ed59216a93d6e0de221eea5ffe3027a8bf3b9aa8533433fad934"
  },
  "kernelspec": {
   "display_name": "Python 3.9.7 64-bit",
   "language": "python",
   "name": "python3"
  },
  "language_info": {
   "codemirror_mode": {
    "name": "ipython",
    "version": 3
   },
   "file_extension": ".py",
   "mimetype": "text/x-python",
   "name": "python",
   "nbconvert_exporter": "python",
   "pygments_lexer": "ipython3",
   "version": "3.9.7"
  },
  "orig_nbformat": 4
 },
 "nbformat": 4,
 "nbformat_minor": 2
}
