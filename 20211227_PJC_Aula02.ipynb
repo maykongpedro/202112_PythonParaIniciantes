{
 "cells": [
  {
   "cell_type": "markdown",
   "metadata": {},
   "source": [
    "## Aula 02"
   ]
  },
  {
   "cell_type": "markdown",
   "metadata": {},
   "source": [
    "## Repetições (iterações) Condicionais"
   ]
  },
  {
   "cell_type": "code",
   "execution_count": 1,
   "metadata": {},
   "outputs": [
    {
     "name": "stdout",
     "output_type": "stream",
     "text": [
      "7\n",
      "6\n",
      "5\n",
      "4\n",
      "3\n",
      "2\n",
      "1\n",
      "Acabou de repetir\n"
     ]
    }
   ],
   "source": [
    "# Enquanto for verdade (True), repete\n",
    "numero = 7\n",
    "while numero > 0:\n",
    "    print(numero)\n",
    "    numero = numero - 1\n",
    "\n",
    "print('Acabou de repetir')"
   ]
  },
  {
   "cell_type": "code",
   "execution_count": 6,
   "metadata": {},
   "outputs": [
    {
     "name": "stdout",
     "output_type": "stream",
     "text": [
      "Com 25 anos, seu voto é obrigatório!\n"
     ]
    }
   ],
   "source": [
    "repetir = True\n",
    "while repetir:\n",
    "\n",
    "    idade = input('Digite sua idade:')\n",
    "    idade = int(idade)\n",
    "\n",
    "    if idade >= 18 and idade < 70:\n",
    "        print(f'Com {idade} anos, seu voto é obrigatório!')\n",
    "    elif idade >= 16:\n",
    "        print(f'Com {idade} anos, seu voto é facultativo!')\n",
    "    else:\n",
    "        print(f'Com {idade} anos, você NÃO pode votar!')\n",
    "\n",
    "    resposta = input('Deseja repetir? (s/n)')\n",
    "\n",
    "    if resposta == 'n' or resposta == 'N':\n",
    "        repetir = False\n",
    "\n"
   ]
  },
  {
   "cell_type": "markdown",
   "metadata": {},
   "source": [
    "## Listas de dados"
   ]
  },
  {
   "cell_type": "code",
   "execution_count": 9,
   "metadata": {},
   "outputs": [
    {
     "name": "stdout",
     "output_type": "stream",
     "text": [
      "12\n",
      "biscoito\n"
     ]
    }
   ],
   "source": [
    "# lista com vários números (idades)\n",
    "idades = [12, 47, 78, 8, 18]\n",
    "\n",
    "# lista com vários tipos\n",
    "miscelanea = [15, 'biscoito', True, \"teste\",  67.9]\n",
    "\n",
    "# índice no python começa no zero (0)\n",
    "print(idades[0])\n",
    "print((miscelanea[1]))"
   ]
  },
  {
   "cell_type": "code",
   "execution_count": 11,
   "metadata": {},
   "outputs": [
    {
     "name": "stdout",
     "output_type": "stream",
     "text": [
      "25\n",
      "[12, 47, 78, 25, 18, 77]\n"
     ]
    }
   ],
   "source": [
    "# alterando itens da lista\n",
    "idades[3] = 25\n",
    "print(idades[3])\n",
    "\n",
    "# adicionar novos itens na lista\n",
    "idades.append(77)\n",
    "\n",
    "print(idades)"
   ]
  },
  {
   "cell_type": "code",
   "execution_count": 12,
   "metadata": {},
   "outputs": [
    {
     "name": "stdout",
     "output_type": "stream",
     "text": [
      "[12, 47, 78, 25, 18, 77, 88, 12]\n",
      "[12, 47, 78, 25, 18, 77]\n"
     ]
    }
   ],
   "source": [
    "# Fazendo soma de listas\n",
    "print(idades + [88, 12])\n",
    "print(idades)\n",
    "\n",
    "# para realizar multiplicação é necessário um pacote adicional"
   ]
  },
  {
   "cell_type": "markdown",
   "metadata": {},
   "source": [
    "## Iterações definidas (for)"
   ]
  },
  {
   "cell_type": "code",
   "execution_count": 13,
   "metadata": {},
   "outputs": [
    {
     "name": "stdout",
     "output_type": "stream",
     "text": [
      "12\n",
      "47\n",
      "78\n",
      "8\n",
      "18\n"
     ]
    }
   ],
   "source": [
    "idades = [12, 47, 78, 8, 18]\n",
    "\n",
    "for idade in idades:\n",
    "    print(idade)"
   ]
  },
  {
   "cell_type": "code",
   "execution_count": 15,
   "metadata": {},
   "outputs": [
    {
     "name": "stdout",
     "output_type": "stream",
     "text": [
      "Com 12 anos, você NÃO pode votar!\n",
      "Com 47 anos, seu voto é obrigatório!\n",
      "Com 78 anos, seu voto é facultativo!\n",
      "Com 8 anos, você NÃO pode votar!\n",
      "Com 18 anos, seu voto é obrigatório!\n"
     ]
    }
   ],
   "source": [
    "\n",
    "# fazendo um loop na lista de idades\n",
    "for idade in idades:\n",
    "    if idade >= 18 and idade < 70:\n",
    "        print(f'Com {idade} anos, seu voto é obrigatório!')\n",
    "    elif idade >= 16:\n",
    "        print(f'Com {idade} anos, seu voto é facultativo!')\n",
    "    else:\n",
    "        print(f'Com {idade} anos, você NÃO pode votar!')\n"
   ]
  },
  {
   "cell_type": "code",
   "execution_count": 16,
   "metadata": {},
   "outputs": [
    {
     "name": "stdout",
     "output_type": "stream",
     "text": [
      "3\n",
      "4\n",
      "5\n",
      "6\n",
      "7\n"
     ]
    }
   ],
   "source": [
    "# No python os intervalos não exibem o último número\n",
    "# for i in range(3, 8): funciona da mesma forma, de 1 em 1\n",
    "# for i in range(10): funciona do 0 até o 10 de 1 em 1\n",
    "for i in range(3, 8, 1):\n",
    "    print(i)\n"
   ]
  },
  {
   "cell_type": "code",
   "execution_count": 21,
   "metadata": {},
   "outputs": [
    {
     "name": "stdout",
     "output_type": "stream",
     "text": [
      "João tem 12 anos\n",
      "Maria tem 47 anos\n",
      "Severina tem 78 anos\n",
      "Pedro tem 8 anos\n",
      "Rebeca tem 18 anos\n"
     ]
    }
   ],
   "source": [
    "idades = [12, 47, 78, 8, 18]\n",
    "nomes = ['João', 'Maria', 'Severina', 'Pedro', 'Rebeca']\n",
    "\n",
    "comprimento_lista = len(idades)\n",
    "\n",
    "for i in range(comprimento_lista):\n",
    "    print(f'{nomes[i]} tem {idades[i]} anos')\n"
   ]
  },
  {
   "cell_type": "markdown",
   "metadata": {},
   "source": []
  }
 ],
 "metadata": {
  "interpreter": {
   "hash": "652c7d745710ed59216a93d6e0de221eea5ffe3027a8bf3b9aa8533433fad934"
  },
  "kernelspec": {
   "display_name": "Python 3.9.7 64-bit",
   "language": "python",
   "name": "python3"
  },
  "language_info": {
   "codemirror_mode": {
    "name": "ipython",
    "version": 3
   },
   "file_extension": ".py",
   "mimetype": "text/x-python",
   "name": "python",
   "nbconvert_exporter": "python",
   "pygments_lexer": "ipython3",
   "version": "3.9.7"
  },
  "orig_nbformat": 4
 },
 "nbformat": 4,
 "nbformat_minor": 2
}
