{
 "cells": [
  {
   "cell_type": "markdown",
   "metadata": {},
   "source": [
    "## Reaproveitando Código com Funções\n",
    "A ideia de escrever funções é ter trechos de código que são responsáveis por executar uma única tarefa e, então podem ser reutilizados várias vezes no mesmo programa, ou até mesmo em outros programas, como veremos mais à frente."
   ]
  },
  {
   "cell_type": "code",
   "execution_count": 4,
   "metadata": {},
   "outputs": [
    {
     "name": "stdout",
     "output_type": "stream",
     "text": [
      "80\n"
     ]
    }
   ],
   "source": [
    "# Criando a primeira função\n",
    "def exibe_soma(x, y):\n",
    "    resultado = x + y\n",
    "    print(resultado)\n",
    "\n",
    "exibe_soma(50, 30)"
   ]
  },
  {
   "cell_type": "code",
   "execution_count": 11,
   "metadata": {},
   "outputs": [
    {
     "name": "stdout",
     "output_type": "stream",
     "text": [
      "80\n",
      "30\n"
     ]
    }
   ],
   "source": [
    "# Usando return pra tornar a função mais maleável\n",
    "def somar(x, y):\n",
    "    resultado = x + y\n",
    "    return resultado\n",
    "\n",
    "a = somar(50, 30)\n",
    "print(a)\n",
    "\n",
    "# Testando com variáveis\n",
    "numero1 = 20\n",
    "numero2 = 10\n",
    "b = somar(20, 10)\n",
    "\n",
    "print(b)"
   ]
  },
  {
   "cell_type": "markdown",
   "metadata": {},
   "source": [
    "### Adaptando o programa de voto com função"
   ]
  },
  {
   "cell_type": "code",
   "execution_count": 13,
   "metadata": {},
   "outputs": [
    {
     "name": "stdout",
     "output_type": "stream",
     "text": [
      "Com 71 anos, seu voto é facultativo.\n"
     ]
    }
   ],
   "source": [
    "\n",
    "# definir função\n",
    "def status_de_voto(idade):\n",
    "    if idade >= 18 and idade <70:\n",
    "        return 'obrigatório'\n",
    "    elif idade >= 16:\n",
    "        return 'facultativo'\n",
    "    else:\n",
    "        return 'proibido'\n",
    "\n",
    "# gerar idade\n",
    "idade = int(input('Digite sua idade: '))\n",
    "resposta = status_de_voto(idade)\n",
    "\n",
    "# printar mensagem\n",
    "print(f'Com {idade} anos, seu voto é {resposta}.')\n"
   ]
  }
 ],
 "metadata": {
  "interpreter": {
   "hash": "652c7d745710ed59216a93d6e0de221eea5ffe3027a8bf3b9aa8533433fad934"
  },
  "kernelspec": {
   "display_name": "Python 3.9.7 64-bit",
   "language": "python",
   "name": "python3"
  },
  "language_info": {
   "codemirror_mode": {
    "name": "ipython",
    "version": 3
   },
   "file_extension": ".py",
   "mimetype": "text/x-python",
   "name": "python",
   "nbconvert_exporter": "python",
   "pygments_lexer": "ipython3",
   "version": "3.9.7"
  },
  "orig_nbformat": 4
 },
 "nbformat": 4,
 "nbformat_minor": 2
}
