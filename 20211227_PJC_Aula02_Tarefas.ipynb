{
 "cells": [
  {
   "cell_type": "markdown",
   "metadata": {},
   "source": [
    "# Tarefas"
   ]
  },
  {
   "cell_type": "markdown",
   "metadata": {},
   "source": [
    "[Explicação] Encontrando o maior elemento de uma lista\n",
    "Devido à dúvida de um colega, atualizamos o material com esta explicação sobre como determinar o máximo de uma lista. Sua dúvida também pode ser a dúvida de outra pessoa, então fique à vontade para perguntar em qualquer seção que julgue necessário :)\n",
    "\n",
    "Queremos determinar QUAL O MAIOR elemento de uma lista. Podemos usar como exemplo para ilustrar a lista:\n",
    "lista = [7,3,9,1,2,3,6]\n",
    "\n",
    "O fato mais importante para notarmos é que o maior elemento de uma lista tem que ser maior do que todos os outros elementos.\n",
    "\n",
    "Para podermos dizer que um número da lista é maior que outro número da lista, nós precisamos realizar comparações, por exemplo com o sinal de < (menor que). Só depois de comparar um número em relação ao outro, podemos dizer quem é maior ou menor (ou igual). Com isto em mente, podemos solucionar o problema de duas maneiras:\n",
    "\n",
    "SOLUÇÃO 1:\n",
    "Uma forma de resolver é utilizar dois laços for para comparar TODOS os números entre si. A ideia é pegar o 7 (primeiro da lista) verificar se ele é maior que todos os demais; em seguida, passar pro 3 (segunda da lista) e verificar se ele é maior que todos os outros; em seguida, passar pro 9 e fazer a mesma verificação nesse caso, vai ser verdade que 9 é maior que todos os demais elementos e aí você encontrou sua resposta.\n",
    "\n",
    "### TAREFA: implementar esta proposta de solução acima."
   ]
  },
  {
   "cell_type": "code",
   "execution_count": null,
   "metadata": {},
   "outputs": [],
   "source": []
  }
 ],
 "metadata": {
  "language_info": {
   "name": "python"
  },
  "orig_nbformat": 4
 },
 "nbformat": 4,
 "nbformat_minor": 2
}
