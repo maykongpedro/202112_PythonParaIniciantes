{
 "cells": [
  {
   "cell_type": "markdown",
   "metadata": {},
   "source": [
    "# Tarefas"
   ]
  },
  {
   "cell_type": "markdown",
   "metadata": {},
   "source": [
    "[Explicação] Encontrando o maior elemento de uma lista\n",
    "Devido à dúvida de um colega, atualizamos o material com esta explicação sobre como determinar o máximo de uma lista. Sua dúvida também pode ser a dúvida de outra pessoa, então fique à vontade para perguntar em qualquer seção que julgue necessário :)\n",
    "\n",
    "Queremos determinar QUAL O MAIOR elemento de uma lista. Podemos usar como exemplo para ilustrar a lista:\n",
    "lista = [7,3,9,1,2,3,6]\n",
    "\n",
    "O fato mais importante para notarmos é que o maior elemento de uma lista tem que ser maior do que todos os outros elementos.\n",
    "\n",
    "Para podermos dizer que um número da lista é maior que outro número da lista, nós precisamos realizar comparações, por exemplo com o sinal de < (menor que). Só depois de comparar um número em relação ao outro, podemos dizer quem é maior ou menor (ou igual). Com isto em mente, podemos solucionar o problema de duas maneiras:\n",
    "\n",
    "SOLUÇÃO 1:\n",
    "Uma forma de resolver é utilizar dois laços for para comparar TODOS os números entre si. A ideia é pegar o 7 (primeiro da lista) verificar se ele é maior que todos os demais; em seguida, passar pro 3 (segunda da lista) e verificar se ele é maior que todos os outros; em seguida, passar pro 9 e fazer a mesma verificação nesse caso, vai ser verdade que 9 é maior que todos os demais elementos e aí você encontrou sua resposta.\n",
    "\n",
    "### TAREFA: implementar esta proposta de solução acima."
   ]
  },
  {
   "cell_type": "code",
   "execution_count": 15,
   "metadata": {},
   "outputs": [
    {
     "name": "stdout",
     "output_type": "stream",
     "text": [
      "O número maior dentro da lista é o 9.\n"
     ]
    }
   ],
   "source": [
    "\n",
    "# my resolution\n",
    "lista = [7,3,9,1,2,3,6, 9]\n",
    "\n",
    "# loop\n",
    "for elemento in lista:\n",
    "\n",
    "    # get first number\n",
    "    if elemento == lista[0]:\n",
    "        num_maior = lista[0]\n",
    "\n",
    "    # do validation\n",
    "    if elemento > num_maior:\n",
    "        num_maior = elemento\n",
    "\n",
    "\n",
    "print(f\"O número maior dentro da lista é o {num_maior}.\")"
   ]
  }
 ],
 "metadata": {
  "interpreter": {
   "hash": "652c7d745710ed59216a93d6e0de221eea5ffe3027a8bf3b9aa8533433fad934"
  },
  "kernelspec": {
   "display_name": "Python 3.9.7 64-bit",
   "language": "python",
   "name": "python3"
  },
  "language_info": {
   "codemirror_mode": {
    "name": "ipython",
    "version": 3
   },
   "file_extension": ".py",
   "mimetype": "text/x-python",
   "name": "python",
   "nbconvert_exporter": "python",
   "pygments_lexer": "ipython3",
   "version": "3.9.7"
  },
  "orig_nbformat": 4
 },
 "nbformat": 4,
 "nbformat_minor": 2
}
